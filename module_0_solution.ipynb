{
 "cells": [
  {
   "cell_type": "code",
   "execution_count": 3,
   "metadata": {},
   "outputs": [],
   "source": [
    "def guessing_number_from_1_to_100(wished_number):\n",
    "    '''Функция угадывает загаданное число (wished_number) на отрезке \n",
    "    от 1 до 100 сравнивая его с серединой отрезка (midpoint) и \n",
    "    выбирая нужную половину для дальнейшего поиска'''\n",
    "    \n",
    "    lower_border = 1\n",
    "    upper_border = 101\n",
    "    # Верхняя граница для первого шага на 1 больше чем в задании\n",
    "    # чтобы можно было угадать число 100\n",
    "    midpoint = int((upper_border+lower_border) / 2)\n",
    "    count = 1 # Переменная-счетчик для количества попыток, \n",
    "              # начинается с 1 потому что первая попытка задается до цикла\n",
    "    \n",
    "    while wished_number != midpoint: # Сравнение загаданного числа в цикле \n",
    "        if wished_number > midpoint: # с серединой отрезка и выбор нужного подотрезка\n",
    "            lower_border = midpoint\n",
    "        if wished_number < midpoint:\n",
    "            upper_border = midpoint\n",
    "        count+=1\n",
    "        midpoint = int((upper_border+lower_border) / 2)\n",
    "        \n",
    "    return count"
   ]
  },
  {
   "cell_type": "code",
   "execution_count": null,
   "metadata": {},
   "outputs": [],
   "source": []
  }
 ],
 "metadata": {
  "kernelspec": {
   "display_name": "Python 3",
   "language": "python",
   "name": "python3"
  },
  "language_info": {
   "codemirror_mode": {
    "name": "ipython",
    "version": 3
   },
   "file_extension": ".py",
   "mimetype": "text/x-python",
   "name": "python",
   "nbconvert_exporter": "python",
   "pygments_lexer": "ipython3",
   "version": "3.8.3"
  }
 },
 "nbformat": 4,
 "nbformat_minor": 4
}
